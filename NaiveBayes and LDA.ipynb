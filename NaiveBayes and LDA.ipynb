{
 "cells": [
  {
   "cell_type": "markdown",
   "metadata": {},
   "source": [
    "# Homework"
   ]
  },
  {
   "cell_type": "code",
   "execution_count": 5,
   "metadata": {},
   "outputs": [],
   "source": [
    "import numpy as np\n",
    "import pandas as pd\n",
    "import seaborn as sns\n",
    "from sklearn.metrics import accuracy_score\n",
    "from sklearn.datasets import load_iris\n",
    "from sklearn.model_selection import train_test_split\n",
    "from sklearn.metrics import accuracy_score\n",
    "from sklearn.datasets import make_blobs"
   ]
  },
  {
   "cell_type": "code",
   "execution_count": 6,
   "metadata": {},
   "outputs": [],
   "source": [
    "x,y=make_blobs()\n",
    "xtrain,xtest,ytrain,ytest=train_test_split(x,y,random_state=5,test_size=0.2)"
   ]
  },
  {
   "cell_type": "code",
   "execution_count": 7,
   "metadata": {},
   "outputs": [
    {
     "data": {
      "text/plain": [
       "array([2, 0, 1, 1, 2, 0, 1, 0, 0, 2, 2, 1, 1, 2, 0, 1, 2, 0, 2, 0],\n",
       "      dtype=int64)"
      ]
     },
     "execution_count": 7,
     "metadata": {},
     "output_type": "execute_result"
    }
   ],
   "source": [
    "from scipy.stats import norm\n",
    "\n",
    "class NaiveBayes():        \n",
    "        \n",
    "        def fit(self,x,y):\n",
    "            self.classes=np.unique(y)\n",
    "            self.mean=np.zeros((len(self.classes),x.shape[1]))\n",
    "            self.std=np.zeros((len(self.classes),x.shape[1]))\n",
    "            self.priors=np.zeros(len(self.classes))\n",
    "            for i,n in enumerate(self.classes):\n",
    "                cl_x=x[y==n]\n",
    "                self.mean[i,:]=cl_x.mean(axis=0)\n",
    "                self.std[i,:]=cl_x.std(axis=0)\n",
    "                self.priors[i]=cl_x.shape[0]/x.shape[0]\n",
    "            \n",
    "    \n",
    "        def predict(self,x):\n",
    "            prob=np.zeros((x.shape[0],len(self.classes)))\n",
    "        \n",
    "            for i ,n in enumerate(self.classes):\n",
    "                log_prob=np.log(self.priors[i])\n",
    "                liklehod=self.pdf(x,self.mean[i],self.std[i])\n",
    "                prob[:,i]=liklehod+log_prob\n",
    "        \n",
    "            return np.argmax(prob, axis=1)\n",
    "        \n",
    "        \n",
    "        \n",
    "        def pdf(self,x,mean,std):\n",
    "            return np.sum(np.log(norm.pdf(x,mean,std)),axis=1)\n",
    "            \n",
    "        \n",
    "model=NaiveBayes()\n",
    "model.fit(xtrain,ytrain)\n",
    "prediction=model.predict(xtest)\n",
    "\n",
    "prediction "
   ]
  },
  {
   "cell_type": "code",
   "execution_count": 8,
   "metadata": {},
   "outputs": [],
   "source": [
    "class LineardiscriminantAnalysis:\n",
    "    def fit(self, x, y):\n",
    "        mean_0 = np.mean(x[y == 0], axis=0)\n",
    "        mean_1 = np.mean(x[y == 1], axis=0)\n",
    "        cov0 = np.cov(x[y == 0],rowvar=False)\n",
    "        cov1 = np.cov(x[y == 1],rowvar=False)\n",
    "        covar_matr = ((x[y==0].shape[0]-1)*cov0 + (x[y==1].shape[0]-1)*cov1)/((x[y==0].shape[0]-1)+(x[y==1].shape[0]-1))\n",
    "        prior0=x[y==0].shape[0]/y.shape[0]\n",
    "        prior1=x[y==1].shape[0]/y.shape[0]\n",
    "        self.w = np.linalg.inv(covar_matr).dot(mean_1 - mean_0)\n",
    "        self.b = ((mean_0.dot(self.w) + mean_1.dot(self.w)) / 2)+np.log(prior1/prior0)\n",
    "        \n",
    "    def predict(self, xtest):\n",
    "        prediction = np.sign(xtest.dot(self.w) + self.b)\n",
    "        prediction[prediction!=1]=0\n",
    "        return prediction\n",
    "    \n",
    "    \n"
   ]
  },
  {
   "cell_type": "code",
   "execution_count": 9,
   "metadata": {},
   "outputs": [],
   "source": [
    "x,y=make_blobs(centers=2,cluster_std=1)"
   ]
  },
  {
   "cell_type": "code",
   "execution_count": 10,
   "metadata": {},
   "outputs": [],
   "source": [
    "\n",
    "\n",
    "xtrain,xtest,ytrain,ytest=train_test_split(x,y,random_state=0,test_size=0.2)"
   ]
  },
  {
   "cell_type": "code",
   "execution_count": 11,
   "metadata": {},
   "outputs": [],
   "source": [
    "model=LineardiscriminantAnalysis()\n",
    "model.fit(xtrain,ytrain)"
   ]
  },
  {
   "cell_type": "code",
   "execution_count": 12,
   "metadata": {
    "scrolled": true
   },
   "outputs": [
    {
     "data": {
      "text/plain": [
       "array([1., 0., 1., 0., 0., 0., 0., 0., 0., 1., 0., 0., 0., 1., 0., 1., 0.,\n",
       "       0., 0., 0., 0., 0., 0., 0., 0., 0., 0., 1., 0., 0., 0., 0., 0., 0.,\n",
       "       0., 1., 0., 0., 0., 0., 0., 0., 0., 0., 0., 0., 0., 0., 0., 0., 0.,\n",
       "       0., 0., 0., 0., 0., 0., 1., 0., 0., 0., 0., 0., 0., 0., 0., 0., 0.,\n",
       "       0., 0., 0., 0., 0., 0., 0., 1., 1., 0., 0., 0.])"
      ]
     },
     "execution_count": 12,
     "metadata": {},
     "output_type": "execute_result"
    }
   ],
   "source": [
    "model.predict(xtrain\n",
    "             )"
   ]
  },
  {
   "cell_type": "code",
   "execution_count": 13,
   "metadata": {},
   "outputs": [
    {
     "data": {
      "text/plain": [
       "array([1, 0, 1, 1, 1, 0, 1, 0, 0, 1, 0, 0, 1, 1, 0, 1, 1, 1, 1, 1, 0, 0,\n",
       "       0, 0, 1, 1, 0, 1, 1, 0, 0, 0, 0, 0, 0, 1, 0, 1, 1, 0, 1, 0, 0, 0,\n",
       "       0, 1, 0, 0, 1, 0, 1, 0, 0, 1, 0, 1, 1, 1, 0, 0, 0, 1, 1, 0, 1, 1,\n",
       "       0, 0, 1, 1, 1, 0, 1, 1, 1, 1, 1, 0, 1, 1])"
      ]
     },
     "execution_count": 13,
     "metadata": {},
     "output_type": "execute_result"
    }
   ],
   "source": [
    "ytrain"
   ]
  },
  {
   "cell_type": "code",
   "execution_count": 15,
   "metadata": {},
   "outputs": [],
   "source": [
    "from sklearn.decomposition import PCA"
   ]
  },
  {
   "cell_type": "code",
   "execution_count": 16,
   "metadata": {},
   "outputs": [],
   "source": [
    "from sklearn.datasets import make_blobs\n",
    "\n"
   ]
  },
  {
   "cell_type": "code",
   "execution_count": 17,
   "metadata": {},
   "outputs": [],
   "source": [
    "x,y=make_blobs(n_samples=100,n_features=10,centers=2,cluster_std=10)"
   ]
  },
  {
   "cell_type": "code",
   "execution_count": 18,
   "metadata": {},
   "outputs": [],
   "source": [
    "xtrain,xtest,ytrain,ytest=train_test_split(x,y,random_state=5,test_size=0.3)"
   ]
  },
  {
   "cell_type": "code",
   "execution_count": 19,
   "metadata": {},
   "outputs": [
    {
     "data": {
      "text/plain": [
       "0.8666666666666667"
      ]
     },
     "execution_count": 19,
     "metadata": {},
     "output_type": "execute_result"
    }
   ],
   "source": [
    "disc_mod=LineardiscriminantAnalysis()\n",
    "disc_mod.fit(xtrain,ytrain)\n",
    "prediction=disc_mod.predict(xtest)\n",
    "accuracy_score(prediction,ytest)"
   ]
  }
 ],
 "metadata": {
  "colab": {
   "name": "NaiveBayes.ipynb",
   "provenance": []
  },
  "kernelspec": {
   "display_name": "Python 3 (ipykernel)",
   "language": "python",
   "name": "python3"
  },
  "language_info": {
   "codemirror_mode": {
    "name": "ipython",
    "version": 3
   },
   "file_extension": ".py",
   "mimetype": "text/x-python",
   "name": "python",
   "nbconvert_exporter": "python",
   "pygments_lexer": "ipython3",
   "version": "3.9.7"
  }
 },
 "nbformat": 4,
 "nbformat_minor": 1
}
